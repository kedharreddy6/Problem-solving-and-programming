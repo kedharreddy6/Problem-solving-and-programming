{
 "cells": [
  {
   "cell_type": "markdown",
   "metadata": {},
   "source": [
    "## Bolean methods\n",
    "\n",
    "\n",
    "is lower() - Method returns the output either true or false .if it is true \n",
    "\n",
    "isupper()--true or false\n",
    "\n",
    "islower()--true or false\n",
    "\n",
    "isnumeric()--true or false"
   ]
  },
  {
   "cell_type": "code",
   "execution_count": 8,
   "metadata": {},
   "outputs": [
    {
     "name": "stdout",
     "output_type": "stream",
     "text": [
      "True\n",
      "True\n"
     ]
    }
   ],
   "source": [
    "s = 'python is easy programming to learn and intresting'\n",
    "s1=\"python\"\n",
    "print(s.islower())\n",
    "print(s1.islower())"
   ]
  },
  {
   "cell_type": "code",
   "execution_count": 6,
   "metadata": {},
   "outputs": [
    {
     "name": "stdout",
     "output_type": "stream",
     "text": [
      "False\n",
      "True\n"
     ]
    }
   ],
   "source": [
    "s = \"Application\"\n",
    "s1 = 'ANIL'\n",
    "print(s.isupper())\n",
    "print(s1.isupper())"
   ]
  },
  {
   "cell_type": "code",
   "execution_count": 11,
   "metadata": {},
   "outputs": [
    {
     "name": "stdout",
     "output_type": "stream",
     "text": [
      "True\n",
      "False\n"
     ]
    }
   ],
   "source": [
    "s = \"5678\"\n",
    "s1 =\"App1889\"\n",
    "print(s.isnumeric())\n",
    "print(s1.isnumeric())"
   ]
  },
  {
   "cell_type": "code",
   "execution_count": 12,
   "metadata": {},
   "outputs": [
    {
     "name": "stdout",
     "output_type": "stream",
     "text": [
      "False\n",
      "True\n"
     ]
    }
   ],
   "source": [
    "s=\"57665\"\n",
    "s1=\"Application\"\n",
    "print(s.isalpha())\n",
    "print(s1.isalpha())"
   ]
  },
  {
   "cell_type": "code",
   "execution_count": 19,
   "metadata": {},
   "outputs": [
    {
     "name": "stdout",
     "output_type": "stream",
     "text": [
      "False\n",
      "False\n"
     ]
    }
   ],
   "source": [
    "s=\"python programming\"\n",
    "s1 =\"python programming\"\n",
    "print(s.istitle())\n",
    "print(s1.istitle())"
   ]
  },
  {
   "cell_type": "code",
   "execution_count": 20,
   "metadata": {},
   "outputs": [
    {
     "name": "stdout",
     "output_type": "stream",
     "text": [
      "False\n"
     ]
    }
   ],
   "source": [
    "s=\"python\"\n",
    "print(s.isspace())"
   ]
  },
  {
   "cell_type": "markdown",
   "metadata": {},
   "source": [
    "### String Methods\n",
    "\n",
    "1.join():join() method will conncatinate two strings\n",
    "\n",
    "2.split()\n",
    "\n",
    "3.Replace()"
   ]
  },
  {
   "cell_type": "code",
   "execution_count": 24,
   "metadata": {},
   "outputs": [
    {
     "name": "stdout",
     "output_type": "stream",
     "text": [
      "p y t h o n\n"
     ]
    }
   ],
   "source": [
    "str = \"python\"\n",
    "print(\" \".join(str))"
   ]
  },
  {
   "cell_type": "code",
   "execution_count": 26,
   "metadata": {},
   "outputs": [
    {
     "name": "stdout",
     "output_type": "stream",
     "text": [
      "python,logic,notes\n"
     ]
    }
   ],
   "source": [
    "print(\",\".join([\"python\",\"logic\",\"notes\"]))"
   ]
  },
  {
   "cell_type": "code",
   "execution_count": 4,
   "metadata": {},
   "outputs": [
    {
     "name": "stdout",
     "output_type": "stream",
     "text": [
      ",\n"
     ]
    }
   ],
   "source": [
    "lst=[\"\",\"\"]\n",
    "print(\",\".join(lst))"
   ]
  },
  {
   "cell_type": "code",
   "execution_count": 3,
   "metadata": {},
   "outputs": [
    {
     "name": "stdout",
     "output_type": "stream",
     "text": [
      "['python', 'programming', 'is', 'easy', 'to', 'learn']\n",
      "['python progra', '', 'ing is easy to learn']\n",
      "['python programming is easy to learn']\n"
     ]
    }
   ],
   "source": [
    "s=\"python programming is easy to learn\"\n",
    "print(s.split())\n",
    "print(s.split(\"m\"))\n",
    "print(s.split(\" , \"))"
   ]
  },
  {
   "cell_type": "code",
   "execution_count": 5,
   "metadata": {},
   "outputs": [
    {
     "name": "stdout",
     "output_type": "stream",
     "text": [
      "['python', 'programming', 'is', 'easy', 'to', 'learn']\n"
     ]
    }
   ],
   "source": [
    "s=\"python,programming,is,easy,to,learn\"\n",
    "print(s.split(\",\"))"
   ]
  },
  {
   "cell_type": "markdown",
   "metadata": {},
   "source": [
    "## python -- Tuples\n",
    "\n",
    "a Tuple of seq of set of objects is like list only\n",
    "\n",
    "the differences of lists and tuples are the tuples cannot be changed unlike list\n",
    "\n",
    "List will use square brackets hold objects ||\n",
    "\n",
    "tuples will use parentheses to hold objects()"
   ]
  },
  {
   "cell_type": "code",
   "execution_count": 1,
   "metadata": {},
   "outputs": [
    {
     "name": "stdout",
     "output_type": "stream",
     "text": [
      "t1[0]= python\n",
      "t1[2]= 1989\n",
      "t1[-1]= AI\n"
     ]
    }
   ],
   "source": [
    "t1 = (\"python\",\"programing\",1989,2019,\"Machine learning\",\"AI\")\n",
    "print(\"t1[0]=\",t1[0])\n",
    "print(\"t1[2]=\",t1[2])\n",
    "print(\"t1[-1]=\",t1[-1])\n",
    "\n"
   ]
  },
  {
   "cell_type": "markdown",
   "metadata": {},
   "source": [
    "## len(tuple)--len of tuple\n",
    "## max(tuple)--max value from tuple\n",
    "## min(tuple)--min value from tuple"
   ]
  },
  {
   "cell_type": "code",
   "execution_count": 5,
   "metadata": {},
   "outputs": [
    {
     "name": "stdout",
     "output_type": "stream",
     "text": [
      "1\n"
     ]
    }
   ],
   "source": [
    "t1=(8,9,54,76,19,4,1)\n",
    "print(min(t1))"
   ]
  },
  {
   "cell_type": "code",
   "execution_count": 6,
   "metadata": {},
   "outputs": [
    {
     "name": "stdout",
     "output_type": "stream",
     "text": [
      "665\n"
     ]
    }
   ],
   "source": [
    "t1=(6,7,665,43,56,65,22)\n",
    "print(max(t1))"
   ]
  },
  {
   "cell_type": "code",
   "execution_count": 9,
   "metadata": {
    "scrolled": true
   },
   "outputs": [
    {
     "name": "stdout",
     "output_type": "stream",
     "text": [
      "user1[Name]= Anil\n",
      "use1[Age]= 24\n",
      "user1[EmailId]= anil@gmail.com\n"
     ]
    }
   ],
   "source": [
    "user1={'Name':'Anil','Age':24,'EmailId':'anil@gmail.com','MobileNumber':65483658756}\n",
    "print(\"user1[Name]=\",user1['Name'])\n",
    "print(\"use1[Age]=\",user1['Age'])\n",
    "print(\"user1[EmailId]=\",user1['EmailId'])      "
   ]
  },
  {
   "cell_type": "code",
   "execution_count": 10,
   "metadata": {
    "scrolled": true
   },
   "outputs": [
    {
     "name": "stdout",
     "output_type": "stream",
     "text": [
      "4\n"
     ]
    }
   ],
   "source": [
    "user1={'Name':'Anil','Age':24,'EmailId':'anil@gmail.com','MobileNumber':65483658756}\n",
    "print(len(user1))\n"
   ]
  },
  {
   "cell_type": "code",
   "execution_count": 13,
   "metadata": {},
   "outputs": [
    {
     "name": "stdout",
     "output_type": "stream",
     "text": [
      "{'Name': 'Anil', 'Age': 24, 'EmailId': 'anil@gmail.com', 'MobileNumber': 65483658756}\n",
      "{'Name': 'Anil', 'Age': 24, 'EmailId': 'anil@gmail.com', 'MobileNumber': 65483658756}\n",
      "{'Name': 'Anil', 'Age': 24, 'EmailId': 'anil@gmail.com', 'MobileNumber': 65483658756, 'Address': ['Hyderabad']}\n",
      "{'Name': 'Anil', 'Age': 24, 'EmailId': 'anil@gmail.com', 'MobileNumber': 65483658756}\n"
     ]
    }
   ],
   "source": [
    "user1={'Name':'Anil','Age':24,'EmailId':'anil@gmail.com','MobileNumber':65483658756}\n",
    "user2=user1.copy()\n",
    "print(user1)\n",
    "print(user2)\n",
    "user1['Address']=['Hyderabad']\n",
    "print(user1)\n",
    "print(user2)"
   ]
  },
  {
   "cell_type": "code",
   "execution_count": 14,
   "metadata": {},
   "outputs": [
    {
     "name": "stdout",
     "output_type": "stream",
     "text": [
      "dict_items([('Name', 'Anil'), ('Age', 24), ('EmailId', 'anil@gmail.com'), ('MobileNumber', 65483658756)])\n"
     ]
    }
   ],
   "source": [
    "user1={'Name':'Anil','Age':24,'EmailId':'anil@gmail.com','MobileNumber':65483658756}\n",
    "print(user1.items())"
   ]
  },
  {
   "cell_type": "code",
   "execution_count": 16,
   "metadata": {},
   "outputs": [
    {
     "name": "stdout",
     "output_type": "stream",
     "text": [
      "dict_values(['Anil', 24, 'anil@gmail.com', 65483658756])\n",
      "dict_values(['Anil', 24, 'anil@gmail.com', 65483658756])\n"
     ]
    }
   ],
   "source": [
    "user1={'Name':'Anil','Age':24,'EmailId':'anil@gmail.com','MobileNumber':65483658756}\n",
    "user2=user1.copy()\n",
    "print(user1.values())\n",
    "print(user2.values())"
   ]
  },
  {
   "cell_type": "markdown",
   "metadata": {},
   "source": [
    "## String Formatting\n",
    "%s %d"
   ]
  },
  {
   "cell_type": "code",
   "execution_count": 19,
   "metadata": {},
   "outputs": [
    {
     "name": "stdout",
     "output_type": "stream",
     "text": [
      "python programming\n"
     ]
    }
   ],
   "source": [
    "lst=['python','programming']\n",
    "print(\"%s %s\"%(lst[0],lst[1]))"
   ]
  },
  {
   "cell_type": "code",
   "execution_count": null,
   "metadata": {},
   "outputs": [],
   "source": [
    "lst=['python','programming']\n"
   ]
  },
  {
   "cell_type": "code",
   "execution_count": 20,
   "metadata": {},
   "outputs": [
    {
     "name": "stdout",
     "output_type": "stream",
     "text": [
      "['ab', 'ef', 'ghcd']\n"
     ]
    }
   ],
   "source": [
    " print('abcdefcdghcd'.split('cd', 2)) "
   ]
  },
  {
   "cell_type": "code",
   "execution_count": 21,
   "metadata": {},
   "outputs": [
    {
     "name": "stdout",
     "output_type": "stream",
     "text": [
      "True\n"
     ]
    }
   ],
   "source": [
    "print('Hello!2@#World'.istitle()) "
   ]
  },
  {
   "cell_type": "code",
   "execution_count": 22,
   "metadata": {},
   "outputs": [
    {
     "name": "stdout",
     "output_type": "stream",
     "text": [
      "False\n"
     ]
    }
   ],
   "source": [
    "print('1.1'.isnumeric())"
   ]
  },
  {
   "cell_type": "code",
   "execution_count": 33,
   "metadata": {},
   "outputs": [
    {
     "name": "stdout",
     "output_type": "stream",
     "text": [
      "value at : 1 value at : 2\n",
      "value at : 3 value at : 4\n"
     ]
    }
   ],
   "source": [
    "lst=[1,2,3,4]\n",
    "print(\"value at : {0} value at : {1}\".format(lst[0],lst[1]))\n",
    "print(\"value at : {0} value at : {1}\".format(lst[2],lst[3]))"
   ]
  },
  {
   "cell_type": "markdown",
   "metadata": {},
   "source": [
    "## Packages and Modules\n",
    "## Package :-Collection of modules (python file .py)\n",
    "## Sub Packages:-its part of main package\n",
    "## Module :-A single python file contains set operations(functions)¶\n",
    "## **package --> sub package-->modules-->functions\n",
    "## standard lib --math *\n"
   ]
  },
  {
   "cell_type": "code",
   "execution_count": 34,
   "metadata": {},
   "outputs": [
    {
     "name": "stdout",
     "output_type": "stream",
     "text": [
      "75 318 214 185 45 52 340 246 256 292 345 310 "
     ]
    }
   ],
   "source": [
    "# generate the ramdom numbers\n",
    "import random \n",
    "def generateRandomNumbers(n,lb,ub):\n",
    "    for i in range(0,n):\n",
    "        print(random.randint(lb,ub),end=\" \")\n",
    "    return\n",
    "generateRandomNumbers(12,45,345)\n"
   ]
  },
  {
   "cell_type": "code",
   "execution_count": 36,
   "metadata": {},
   "outputs": [
    {
     "ename": "SyntaxError",
     "evalue": "invalid character in identifier (<ipython-input-36-bbd842c78f4a>, line 1)",
     "output_type": "error",
     "traceback": [
      "\u001b[1;36m  File \u001b[1;32m\"<ipython-input-36-bbd842c78f4a>\"\u001b[1;36m, line \u001b[1;32m1\u001b[0m\n\u001b[1;33m    d = {“Anil”:28, “Harsha”:29}.\u001b[0m\n\u001b[1;37m              ^\u001b[0m\n\u001b[1;31mSyntaxError\u001b[0m\u001b[1;31m:\u001b[0m invalid character in identifier\n"
     ]
    }
   ],
   "source": [
    " d = {“Anil”:28, “Harsha”:29}."
   ]
  },
  {
   "cell_type": "code",
   "execution_count": null,
   "metadata": {},
   "outputs": [],
   "source": []
  }
 ],
 "metadata": {
  "kernelspec": {
   "display_name": "Python 3",
   "language": "python",
   "name": "python3"
  },
  "language_info": {
   "codemirror_mode": {
    "name": "ipython",
    "version": 3
   },
   "file_extension": ".py",
   "mimetype": "text/x-python",
   "name": "python",
   "nbconvert_exporter": "python",
   "pygments_lexer": "ipython3",
   "version": "3.7.3"
  }
 },
 "nbformat": 4,
 "nbformat_minor": 2
}
